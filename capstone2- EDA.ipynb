{
 "cells": [
  {
   "cell_type": "code",
   "execution_count": 150,
   "metadata": {},
   "outputs": [],
   "source": [
    "import pandas as pd\n",
    "import numpy as np\n",
    "import os\n",
    "import matplotlib.pyplot as plt\n",
    "import seaborn as sns\n",
    "from sklearn.decomposition import PCA\n",
    "from sklearn.preprocessing import scale\n",
    "from scipy import stats"
   ]
  },
  {
   "cell_type": "markdown",
   "metadata": {},
   "source": [
    "## Exploratory Data Analysis:\n",
    "### Individual's Features and Its Relationship with Surviving a Heart Failure\n",
    "# 　\n",
    "\n"
   ]
  },
  {
   "cell_type": "code",
   "execution_count": 151,
   "metadata": {},
   "outputs": [
    {
     "data": {
      "text/html": [
       "<div>\n",
       "<style scoped>\n",
       "    .dataframe tbody tr th:only-of-type {\n",
       "        vertical-align: middle;\n",
       "    }\n",
       "\n",
       "    .dataframe tbody tr th {\n",
       "        vertical-align: top;\n",
       "    }\n",
       "\n",
       "    .dataframe thead th {\n",
       "        text-align: right;\n",
       "    }\n",
       "</style>\n",
       "<table border=\"1\" class=\"dataframe\">\n",
       "  <thead>\n",
       "    <tr style=\"text-align: right;\">\n",
       "      <th></th>\n",
       "      <th>age</th>\n",
       "      <th>anaemia</th>\n",
       "      <th>creatinine_phosphokinase</th>\n",
       "      <th>diabetes</th>\n",
       "      <th>ejection_fraction</th>\n",
       "      <th>high_blood_pressure</th>\n",
       "      <th>platelets</th>\n",
       "      <th>serum_creatinine</th>\n",
       "      <th>serum_sodium</th>\n",
       "      <th>sex</th>\n",
       "      <th>smoking</th>\n",
       "      <th>DEATH_EVENT</th>\n",
       "    </tr>\n",
       "  </thead>\n",
       "  <tbody>\n",
       "    <tr>\n",
       "      <th>0</th>\n",
       "      <td>75.0</td>\n",
       "      <td>0</td>\n",
       "      <td>582</td>\n",
       "      <td>0</td>\n",
       "      <td>20</td>\n",
       "      <td>1</td>\n",
       "      <td>265000.00</td>\n",
       "      <td>1.9</td>\n",
       "      <td>130</td>\n",
       "      <td>1</td>\n",
       "      <td>0</td>\n",
       "      <td>1</td>\n",
       "    </tr>\n",
       "    <tr>\n",
       "      <th>1</th>\n",
       "      <td>55.0</td>\n",
       "      <td>0</td>\n",
       "      <td>7861</td>\n",
       "      <td>0</td>\n",
       "      <td>38</td>\n",
       "      <td>0</td>\n",
       "      <td>263358.03</td>\n",
       "      <td>1.1</td>\n",
       "      <td>136</td>\n",
       "      <td>1</td>\n",
       "      <td>0</td>\n",
       "      <td>1</td>\n",
       "    </tr>\n",
       "    <tr>\n",
       "      <th>2</th>\n",
       "      <td>65.0</td>\n",
       "      <td>0</td>\n",
       "      <td>146</td>\n",
       "      <td>0</td>\n",
       "      <td>20</td>\n",
       "      <td>0</td>\n",
       "      <td>162000.00</td>\n",
       "      <td>1.3</td>\n",
       "      <td>129</td>\n",
       "      <td>1</td>\n",
       "      <td>1</td>\n",
       "      <td>1</td>\n",
       "    </tr>\n",
       "    <tr>\n",
       "      <th>3</th>\n",
       "      <td>50.0</td>\n",
       "      <td>1</td>\n",
       "      <td>111</td>\n",
       "      <td>0</td>\n",
       "      <td>20</td>\n",
       "      <td>0</td>\n",
       "      <td>210000.00</td>\n",
       "      <td>1.9</td>\n",
       "      <td>137</td>\n",
       "      <td>1</td>\n",
       "      <td>0</td>\n",
       "      <td>1</td>\n",
       "    </tr>\n",
       "    <tr>\n",
       "      <th>4</th>\n",
       "      <td>65.0</td>\n",
       "      <td>1</td>\n",
       "      <td>160</td>\n",
       "      <td>1</td>\n",
       "      <td>20</td>\n",
       "      <td>0</td>\n",
       "      <td>327000.00</td>\n",
       "      <td>2.7</td>\n",
       "      <td>116</td>\n",
       "      <td>0</td>\n",
       "      <td>0</td>\n",
       "      <td>1</td>\n",
       "    </tr>\n",
       "  </tbody>\n",
       "</table>\n",
       "</div>"
      ],
      "text/plain": [
       "    age  anaemia  creatinine_phosphokinase  diabetes  ejection_fraction  \\\n",
       "0  75.0        0                       582         0                 20   \n",
       "1  55.0        0                      7861         0                 38   \n",
       "2  65.0        0                       146         0                 20   \n",
       "3  50.0        1                       111         0                 20   \n",
       "4  65.0        1                       160         1                 20   \n",
       "\n",
       "   high_blood_pressure  platelets  serum_creatinine  serum_sodium  sex  \\\n",
       "0                    1  265000.00               1.9           130    1   \n",
       "1                    0  263358.03               1.1           136    1   \n",
       "2                    0  162000.00               1.3           129    1   \n",
       "3                    0  210000.00               1.9           137    1   \n",
       "4                    0  327000.00               2.7           116    0   \n",
       "\n",
       "   smoking  DEATH_EVENT  \n",
       "0        0            1  \n",
       "1        0            1  \n",
       "2        1            1  \n",
       "3        0            1  \n",
       "4        0            1  "
      ]
     },
     "execution_count": 151,
     "metadata": {},
     "output_type": "execute_result"
    }
   ],
   "source": [
    "#import csv file\n",
    "hf_data=pd.read_csv('hf_data_cleaned.csv')\n",
    "del hf_data['Unnamed: 0']\n",
    "hf_data.head()"
   ]
  },
  {
   "cell_type": "code",
   "execution_count": 152,
   "metadata": {},
   "outputs": [
    {
     "name": "stdout",
     "output_type": "stream",
     "text": [
      "<class 'pandas.core.frame.DataFrame'>\n",
      "RangeIndex: 299 entries, 0 to 298\n",
      "Data columns (total 12 columns):\n",
      " #   Column                    Non-Null Count  Dtype  \n",
      "---  ------                    --------------  -----  \n",
      " 0   age                       299 non-null    float64\n",
      " 1   anaemia                   299 non-null    int64  \n",
      " 2   creatinine_phosphokinase  299 non-null    int64  \n",
      " 3   diabetes                  299 non-null    int64  \n",
      " 4   ejection_fraction         299 non-null    int64  \n",
      " 5   high_blood_pressure       299 non-null    int64  \n",
      " 6   platelets                 299 non-null    float64\n",
      " 7   serum_creatinine          299 non-null    float64\n",
      " 8   serum_sodium              299 non-null    int64  \n",
      " 9   sex                       299 non-null    int64  \n",
      " 10  smoking                   299 non-null    int64  \n",
      " 11  DEATH_EVENT               299 non-null    int64  \n",
      "dtypes: float64(3), int64(9)\n",
      "memory usage: 28.2 KB\n"
     ]
    }
   ],
   "source": [
    "hf_data.info()"
   ]
  },
  {
   "cell_type": "markdown",
   "metadata": {},
   "source": [
    "## 1. Anaemia"
   ]
  },
  {
   "cell_type": "code",
   "execution_count": 153,
   "metadata": {},
   "outputs": [
    {
     "name": "stdout",
     "output_type": "stream",
     "text": [
      "120 50 83 46\n"
     ]
    }
   ],
   "source": [
    "#calculate the number of people who had anaemia/did not have anaemia, and people who survived/did not survive\n",
    "one=hf_data.loc[(hf_data['anaemia']==0) & (hf_data['DEATH_EVENT']==0),['anaemia','DEATH_EVENT']].count()[0]\n",
    "two=hf_data.loc[(hf_data['anaemia']==0) & (hf_data['DEATH_EVENT']==1),['anaemia','DEATH_EVENT']].count()[0]\n",
    "three=hf_data.loc[(hf_data['anaemia']==1) & (hf_data['DEATH_EVENT']==0),['anaemia','DEATH_EVENT']].count()[0]\n",
    "four=hf_data.loc[(hf_data['anaemia']==1) & (hf_data['DEATH_EVENT']==1),['anaemia','DEATH_EVENT']].count()[0]\n",
    "print(one,two,three,four)\n"
   ]
  },
  {
   "cell_type": "markdown",
   "metadata": {},
   "source": [
    "120/203=.593 is the proportion of people that survived who did not have anaemia\n",
    "50/96=.521 is the proportion of people that died who had anaemia"
   ]
  },
  {
   "cell_type": "code",
   "execution_count": 154,
   "metadata": {},
   "outputs": [],
   "source": [
    "#define function that will calculate chi squared p-value \n",
    "def chi_squared_test(survive_with,die_with,survive_without,die_without):\n",
    "    array= np.array([[survive_with,die_with],[survive_without,die_without]])\n",
    "    return stats.chi2_contingency(array)"
   ]
  },
  {
   "cell_type": "code",
   "execution_count": 155,
   "metadata": {},
   "outputs": [
    {
     "data": {
      "text/plain": [
       "(1.042175485287005,\n",
       " 0.3073160508415107,\n",
       " 1,\n",
       " array([[115.4180602,  87.5819398],\n",
       "        [ 54.5819398,  41.4180602]]))"
      ]
     },
     "execution_count": 155,
     "metadata": {},
     "output_type": "execute_result"
    }
   ],
   "source": [
    "chi_squared_test(one,three,two,four)"
   ]
  },
  {
   "cell_type": "markdown",
   "metadata": {},
   "source": [
    "There is a 30.7% chance that a difference of such magnitude or greater was observed simply due to sampling variation; which is a very negligible difference. Therefore it seems safe to conclude that whether the patient had anaemia or not did not have a huge factor in the death event from a heart failure."
   ]
  },
  {
   "cell_type": "markdown",
   "metadata": {},
   "source": [
    "## 2. Age"
   ]
  },
  {
   "cell_type": "code",
   "execution_count": 156,
   "metadata": {},
   "outputs": [],
   "source": [
    "#divide dataframe into those that died and those that survived from heart failure\n",
    "hf_death=hf_data[hf_data['DEATH_EVENT']==1]\n",
    "hf_survive=hf_data[hf_data['DEATH_EVENT']==0]"
   ]
  },
  {
   "cell_type": "code",
   "execution_count": 157,
   "metadata": {},
   "outputs": [
    {
     "data": {
      "image/png": "[encoded data removed]",
      "text/plain": [
       "<Figure size 432x288 with 2 Axes>"
      ]
     },
     "metadata": {
      "needs_background": "light"
     },
     "output_type": "display_data"
    }
   ],
   "source": [
    "plt.subplot(2,1,1)\n",
    "plt.tight_layout(h_pad=5)\n",
    "plt.hist(hf_death['age'])\n",
    "plt.title('Age of people that died from heart failure')\n",
    "plt.subplot(2,1,2)\n",
    "plt.hist(hf_survive['age'])\n",
    "_=plt.title('Age of people that survived from heart failure')"
   ]
  },
  {
   "cell_type": "markdown",
   "metadata": {},
   "source": [
    "It seems that the older the person, the likelier it is for the person to not survive from a heart failure, which is pretty natural."
   ]
  },
  {
   "cell_type": "markdown",
   "metadata": {},
   "source": [
    "## 3. CPK Level"
   ]
  },
  {
   "cell_type": "code",
   "execution_count": 158,
   "metadata": {},
   "outputs": [
    {
     "data": {
      "image/png": "[encoded data removed]",
      "text/plain": [
       "<Figure size 432x288 with 2 Axes>"
      ]
     },
     "metadata": {
      "needs_background": "light"
     },
     "output_type": "display_data"
    }
   ],
   "source": [
    "plt.subplot(2,1,1)\n",
    "plt.tight_layout(h_pad=5)\n",
    "plt.hist(hf_death['creatinine_phosphokinase'])\n",
    "plt.title('CPK level of people that died from heart failure')\n",
    "plt.subplot(2,1,2)\n",
    "plt.hist(hf_survive['creatinine_phosphokinase'])\n",
    "_=plt.title('CPK level of people that survived from heart failure')"
   ]
  },
  {
   "cell_type": "markdown",
   "metadata": {},
   "source": [
    "There seem to be a few outlier of people who have CPK levels that are higher than 2000, and from the histogram it seems that a CPK level of 2000 and higher did not necessarily mean that the person would not survive; disregard these values to see a better picture."
   ]
  },
  {
   "cell_type": "code",
   "execution_count": 159,
   "metadata": {
    "scrolled": true
   },
   "outputs": [
    {
     "data": {
      "text/plain": [
       "Text(0.5, 1.0, 'CPK level(excluding 2000+) of people that survived from heart failure')"
      ]
     },
     "execution_count": 159,
     "metadata": {},
     "output_type": "execute_result"
    },
    {
     "data": {
      "image/png": "[encoded data removed]",
      "text/plain": [
       "<Figure size 432x288 with 2 Axes>"
      ]
     },
     "metadata": {
      "needs_background": "light"
     },
     "output_type": "display_data"
    }
   ],
   "source": [
    "plt.subplot(2,1,1)\n",
    "plt.tight_layout(h_pad=5)\n",
    "plt.hist(hf_death.loc[hf_death['creatinine_phosphokinase']<2000,['creatinine_phosphokinase']].values)\n",
    "plt.title('CPK level(from 2000+) of people that died from heart failure')\n",
    "plt.subplot(2,1,2)\n",
    "plt.hist(hf_survive.loc[(hf_survive['creatinine_phosphokinase']<2000),['creatinine_phosphokinase']].values)\n",
    "plt.title('CPK level(excluding 2000+) of people that survived from heart failure')"
   ]
  },
  {
   "cell_type": "markdown",
   "metadata": {},
   "source": [
    "There definitely seems to be plausible association between whether the person survives or not depending on the their CPK level.\n"
   ]
  },
  {
   "cell_type": "markdown",
   "metadata": {},
   "source": [
    "## 4. Diabetes"
   ]
  },
  {
   "cell_type": "code",
   "execution_count": 160,
   "metadata": {},
   "outputs": [
    {
     "name": "stdout",
     "output_type": "stream",
     "text": [
      "118 56 85 40\n"
     ]
    }
   ],
   "source": [
    "one=hf_data.loc[(hf_data['diabetes']==0) & (hf_data['DEATH_EVENT']==0),['anaemia','DEATH_EVENT']].count()[0]\n",
    "two=hf_data.loc[(hf_data['diabetes']==0) & (hf_data['DEATH_EVENT']==1),['anaemia','DEATH_EVENT']].count()[0]\n",
    "three=hf_data.loc[(hf_data['diabetes']==1) & (hf_data['DEATH_EVENT']==0),['anaemia','DEATH_EVENT']].count()[0]\n",
    "four=hf_data.loc[(hf_data['diabetes']==1) & (hf_data['DEATH_EVENT']==1),['anaemia','DEATH_EVENT']].count()[0]\n",
    "print(one,two,three,four)"
   ]
  },
  {
   "cell_type": "code",
   "execution_count": 161,
   "metadata": {},
   "outputs": [
    {
     "data": {
      "text/plain": [
       "(0.008458101537285573,\n",
       " 0.9267235137291102,\n",
       " 1,\n",
       " array([[118.13377926,  84.86622074],\n",
       "        [ 55.86622074,  40.13377926]]))"
      ]
     },
     "execution_count": 161,
     "metadata": {},
     "output_type": "execute_result"
    }
   ],
   "source": [
    "chi_squared_test(one,three,two,four)"
   ]
  },
  {
   "cell_type": "markdown",
   "metadata": {},
   "source": [
    "With the p-value being .926, there seems to be no reason to suspect that diabetes has any say in whether a person will survive a heart attack or not."
   ]
  },
  {
   "cell_type": "markdown",
   "metadata": {},
   "source": [
    "## 5. Ejection Fraction"
   ]
  },
  {
   "cell_type": "code",
   "execution_count": 173,
   "metadata": {},
   "outputs": [
    {
     "data": {
      "text/plain": [
       "Text(0.5, 1.0, 'EF rate of people that survived from heart failure')"
      ]
     },
     "execution_count": 173,
     "metadata": {},
     "output_type": "execute_result"
    },
    {
     "data": {
      "image/png": "[encoded data removed]",
      "text/plain": [
       "<Figure size 720x576 with 2 Axes>"
      ]
     },
     "metadata": {
      "needs_background": "light"
     },
     "output_type": "display_data"
    }
   ],
   "source": [
    "fig,axs = plt.subplots(2,1, figsize = (10,8))\n",
    "plt.tight_layout(h_pad=5)\n",
    "plt.subplot(2,1,1)\n",
    "plt.hist(hf_death['age'])\n",
    "plt.title('EF rate of people that died from heart failure')\n",
    "plt.subplot(2,1,2)\n",
    "plt.hist(hf_survive['age'])\n",
    "plt.title('EF rate of people that survived from heart failure')"
   ]
  },
  {
   "cell_type": "markdown",
   "metadata": {},
   "source": [
    "It seems safe to say that someone with an EF rate(the percentage of blood leaving the heart each time it contracts) of 70% or higher has a significantly smaller chance of surviving from a heart attack"
   ]
  },
  {
   "cell_type": "markdown",
   "metadata": {},
   "source": [
    "## 6. Blood Pressure"
   ]
  },
  {
   "cell_type": "code",
   "execution_count": 163,
   "metadata": {},
   "outputs": [
    {
     "name": "stdout",
     "output_type": "stream",
     "text": [
      "137 57 66 39\n"
     ]
    }
   ],
   "source": [
    "one=hf_data.loc[(hf_data['high_blood_pressure']==0) & (hf_data['DEATH_EVENT']==0),['anaemia','DEATH_EVENT']].count()[0]\n",
    "two=hf_data.loc[(hf_data['high_blood_pressure']==0) & (hf_data['DEATH_EVENT']==1),['anaemia','DEATH_EVENT']].count()[0]\n",
    "three=hf_data.loc[(hf_data['high_blood_pressure']==1) & (hf_data['DEATH_EVENT']==0),['anaemia','DEATH_EVENT']].count()[0]\n",
    "four=hf_data.loc[(hf_data['high_blood_pressure']==1) & (hf_data['DEATH_EVENT']==1),['anaemia','DEATH_EVENT']].count()[0]\n",
    "print(one,two,three,four)"
   ]
  },
  {
   "cell_type": "code",
   "execution_count": 164,
   "metadata": {},
   "outputs": [
    {
     "data": {
      "text/plain": [
       "(1.5434607612967581,\n",
       " 0.21410341199416902,\n",
       " 1,\n",
       " array([[131.71237458,  71.28762542],\n",
       "        [ 62.28762542,  33.71237458]]))"
      ]
     },
     "execution_count": 164,
     "metadata": {},
     "output_type": "execute_result"
    }
   ],
   "source": [
    "chi_squared_test(one,three,two,four)"
   ]
  },
  {
   "cell_type": "markdown",
   "metadata": {},
   "source": [
    "There is about a 21% chance that a difference of such magnitude or greater will be observed simply due to sampling variation. Statistically there seems to be no problem; but there may be a practical difference between the two parameters."
   ]
  },
  {
   "cell_type": "markdown",
   "metadata": {},
   "source": [
    "## 7. Platelet Count"
   ]
  },
  {
   "cell_type": "code",
   "execution_count": 165,
   "metadata": {},
   "outputs": [
    {
     "data": {
      "image/png": "[encoded data removed]",
      "text/plain": [
       "<Figure size 720x576 with 2 Axes>"
      ]
     },
     "metadata": {
      "needs_background": "light"
     },
     "output_type": "display_data"
    }
   ],
   "source": [
    "fig,axs = plt.subplots(2,1, figsize = (10,8), sharex=True)\n",
    "plt.tight_layout(h_pad=5)\n",
    "sns.histplot(hf_death['platelets'],ax = axs[0])\n",
    "plt.suptitle(\"platelet count of people that died from heart failure\",y=1)\n",
    "sns.histplot(hf_survive['platelets'],ax = axs[1])\n",
    "_=plt.title('platelet count of people that survived from heart failure')"
   ]
  },
  {
   "cell_type": "markdown",
   "metadata": {},
   "source": [
    "Although there are a few outliers in platelet counts for both distributions, it clearly seems having a given platecount leads to a higher chance of surviving from a heart failure."
   ]
  },
  {
   "cell_type": "markdown",
   "metadata": {},
   "source": [
    "## 8. Serum Creatinine Level"
   ]
  },
  {
   "cell_type": "code",
   "execution_count": 166,
   "metadata": {},
   "outputs": [
    {
     "data": {
      "image/png": "[encoded data removed]",
      "text/plain": [
       "<Figure size 720x576 with 2 Axes>"
      ]
     },
     "metadata": {
      "needs_background": "light"
     },
     "output_type": "display_data"
    }
   ],
   "source": [
    "fig,axs = plt.subplots(2,1, figsize = (10,8), sharex=True)\n",
    "plt.tight_layout(h_pad=5)\n",
    "sns.histplot(hf_death['serum_creatinine'],bins=90,ax = axs[0])\n",
    "plt.suptitle(\"serume creatinine level(grams per cm cubed) of people that died from heart failure\",y=1)\n",
    "sns.histplot(hf_survive['serum_creatinine'],ax = axs[1])\n",
    "_=plt.title('serume creatinine level(grams per cm cubed) of people that survived from heart failure')"
   ]
  },
  {
   "cell_type": "markdown",
   "metadata": {},
   "source": [
    "There are two interesting things to note. The first being that having a very low Serum Creatinine level seems to improve the chance of surviving a heart attack; and the second being that having a creatinine level of around 1.5 to 2 seens decreases the chance of survival. Judging from the nondifference in survival rates for creatinine levels of higher than 3, it seems that this result may simply be due to sampling variation, but it is worthwile to note their differences. "
   ]
  },
  {
   "cell_type": "markdown",
   "metadata": {},
   "source": [
    "## 9. Serum Sodium Level"
   ]
  },
  {
   "cell_type": "code",
   "execution_count": 167,
   "metadata": {},
   "outputs": [
    {
     "data": {
      "image/png": "[encoded data removed]",
      "text/plain": [
       "<Figure size 720x576 with 2 Axes>"
      ]
     },
     "metadata": {
      "needs_background": "light"
     },
     "output_type": "display_data"
    }
   ],
   "source": [
    "fig,axs = plt.subplots(2,1, figsize = (10,8), sharex=True)\n",
    "plt.tight_layout(h_pad=5)\n",
    "sns.histplot(hf_death['serum_sodium'],bins=20,ax = axs[0])\n",
    "plt.suptitle(\"serume sodium level(milliequivalents per liter) of people that died from heart failure\",y=1)\n",
    "sns.histplot(hf_survive['serum_sodium'],ax = axs[1])\n",
    "_=plt.title('serume sodium level(milliequivalents per liter) of people that survived from heart failure')"
   ]
  },
  {
   "cell_type": "markdown",
   "metadata": {},
   "source": [
    "There is no notable difference between the two distributions."
   ]
  },
  {
   "cell_type": "markdown",
   "metadata": {},
   "source": [
    "## 10. Gender"
   ]
  },
  {
   "cell_type": "code",
   "execution_count": 168,
   "metadata": {},
   "outputs": [
    {
     "name": "stdout",
     "output_type": "stream",
     "text": [
      "71 34 132 62\n"
     ]
    }
   ],
   "source": [
    "one=hf_data.loc[(hf_data['sex']==0) & (hf_data['DEATH_EVENT']==0),['anaemia','DEATH_EVENT']].count()[0]\n",
    "two=hf_data.loc[(hf_data['sex']==0) & (hf_data['DEATH_EVENT']==1),['anaemia','DEATH_EVENT']].count()[0]\n",
    "three=hf_data.loc[(hf_data['sex']==1) & (hf_data['DEATH_EVENT']==0),['anaemia','DEATH_EVENT']].count()[0]\n",
    "four=hf_data.loc[(hf_data['sex']==1) & (hf_data['DEATH_EVENT']==1),['anaemia','DEATH_EVENT']].count()[0]\n",
    "print(one,two,three,four)"
   ]
  },
  {
   "cell_type": "code",
   "execution_count": 169,
   "metadata": {},
   "outputs": [
    {
     "data": {
      "text/plain": [
       "(0.003037108721613983,\n",
       " 0.9560508538247334,\n",
       " 1,\n",
       " array([[ 71.28762542, 131.71237458],\n",
       "        [ 33.71237458,  62.28762542]]))"
      ]
     },
     "execution_count": 169,
     "metadata": {},
     "output_type": "execute_result"
    }
   ],
   "source": [
    "chi_squared_test(one,three,two,four)"
   ]
  },
  {
   "cell_type": "markdown",
   "metadata": {},
   "source": [
    "It seems that gender does not have an impact on whether the person will survive a heart failure or not."
   ]
  },
  {
   "cell_type": "markdown",
   "metadata": {},
   "source": [
    "## 11.Smoking"
   ]
  },
  {
   "cell_type": "code",
   "execution_count": 170,
   "metadata": {},
   "outputs": [
    {
     "name": "stdout",
     "output_type": "stream",
     "text": [
      "137 66 66 30\n"
     ]
    }
   ],
   "source": [
    "one=hf_data.loc[(hf_data['smoking']==0) & (hf_data['DEATH_EVENT']==0),['anaemia','DEATH_EVENT']].count()[0]\n",
    "two=hf_data.loc[(hf_data['smoking']==0) & (hf_data['DEATH_EVENT']==1),['anaemia','DEATH_EVENT']].count()[0]\n",
    "three=hf_data.loc[(hf_data['smoking']==1) & (hf_data['DEATH_EVENT']==0),['anaemia','DEATH_EVENT']].count()[0]\n",
    "four=hf_data.loc[(hf_data['smoking']==1) & (hf_data['DEATH_EVENT']==1),['anaemia','DEATH_EVENT']].count()[0]\n",
    "print(one,two,three,four)"
   ]
  },
  {
   "cell_type": "code",
   "execution_count": 171,
   "metadata": {},
   "outputs": [
    {
     "data": {
      "text/plain": [
       "(0.007331473567119502,\n",
       " 0.9317652998235507,\n",
       " 1,\n",
       " array([[137.82274247,  65.17725753],\n",
       "        [ 65.17725753,  30.82274247]]))"
      ]
     },
     "execution_count": 171,
     "metadata": {},
     "output_type": "execute_result"
    }
   ],
   "source": [
    "chi_squared_test(one,three,two,four)"
   ]
  },
  {
   "cell_type": "markdown",
   "metadata": {},
   "source": [
    "Surprisingly, it seems that smoking does not have an impact on whether the person will survive a heart failure or not, although it may increase the chance of having a heart failure to begin with."
   ]
  },
  {
   "cell_type": "markdown",
   "metadata": {},
   "source": [
    "## 12. Conclusion"
   ]
  },
  {
   "cell_type": "markdown",
   "metadata": {},
   "source": [
    "It was interesting to see that many of these features seemingly do not have a huge impact on whether a person will survive a heart failure or not. While we do not know how each feature interacts with other features to affect the survial rate, it is worth concluding that at least statistically speaking, these feature hardly affect your chance of survival as an individual feature."
   ]
  },
  {
   "cell_type": "code",
   "execution_count": null,
   "metadata": {},
   "outputs": [],
   "source": []
  }
 ],
 "metadata": {
  "kernelspec": {
   "display_name": "Python 3",
   "language": "python",
   "name": "python3"
  },
  "language_info": {
   "codemirror_mode": {
    "name": "ipython",
    "version": 3
   },
   "file_extension": ".py",
   "mimetype": "text/x-python",
   "name": "python",
   "nbconvert_exporter": "python",
   "pygments_lexer": "ipython3",
   "version": "3.8.3"
  }
 },
 "nbformat": 4,
 "nbformat_minor": 4
}
